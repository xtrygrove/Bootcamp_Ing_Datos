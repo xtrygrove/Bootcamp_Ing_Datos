{
  "nbformat": 4,
  "nbformat_minor": 0,
  "metadata": {
    "colab": {
      "provenance": []
    },
    "kernelspec": {
      "name": "python3",
      "display_name": "Python 3"
    },
    "language_info": {
      "name": "python"
    }
  },
  "cells": [
    {
      "cell_type": "code",
      "source": [
        "# Lista de calificaciones de ejemplo\n",
        "calificaciones = [85, 72, 90, 55, 60, 78, 49, 95, 66]\n",
        "\n",
        "# Variables para cálculo\n",
        "total = 0\n",
        "aprobados = []\n",
        "contador_aprobados = 0\n",
        "\n",
        "# Recorrer la lista\n",
        "for nota in calificaciones:\n",
        "    total += nota\n",
        "    if nota >= 60:\n",
        "        aprobados.append(nota)\n",
        "        contador_aprobados += 1\n",
        "\n",
        "# Calcular promedio general\n",
        "promedio_general = total / len(calificaciones)\n",
        "\n",
        "# Mostrar resultados\n",
        "print(f\"Calificaciones: {calificaciones}\")\n",
        "print(f\"Promedio general: {promedio_general:.2f}\")\n",
        "print(f\"Número de aprobados: {contador_aprobados}\")\n",
        "print(f\"Notas aprobadas: {aprobados}\")\n"
      ],
      "metadata": {
        "id": "I9s3tzzA1RuP",
        "outputId": "b5c3f0bb-b30d-4c4e-a0c2-3b529c586cff",
        "colab": {
          "base_uri": "https://localhost:8080/"
        }
      },
      "execution_count": 8,
      "outputs": [
        {
          "output_type": "stream",
          "name": "stdout",
          "text": [
            "Calificaciones: [85, 72, 90, 55, 60, 78, 49, 95, 66]\n",
            "Promedio general: 72.22\n",
            "Número de aprobados: 7\n",
            "Notas aprobadas: [85, 72, 90, 60, 78, 95, 66]\n"
          ]
        }
      ]
    }
  ]
}