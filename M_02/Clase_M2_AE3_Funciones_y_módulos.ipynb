{
  "nbformat": 4,
  "nbformat_minor": 0,
  "metadata": {
    "colab": {
      "provenance": []
    },
    "kernelspec": {
      "name": "python3",
      "display_name": "Python 3"
    },
    "language_info": {
      "name": "python"
    }
  },
  "cells": [
    {
      "cell_type": "code",
      "source": [
        "# Esto simula tu módulo operaciones.py\n",
        "\n",
        "def sumar(a, b):\n",
        "    \"\"\"Devuelve la suma de dos números.\"\"\"\n",
        "    return a + b\n",
        "\n",
        "def restar(a, b):\n",
        "    \"\"\"Devuelve la resta de dos números.\"\"\"\n",
        "    return a - b\n",
        "\n",
        "def multiplicar(a, b):\n",
        "    \"\"\"Devuelve la multiplicación de dos números.\"\"\"\n",
        "    return a * b\n",
        "\n",
        "def dividir(a, b):\n",
        "    \"\"\"Devuelve la división de dos números. Maneja división por cero.\"\"\"\n",
        "    if b != 0:\n",
        "        return a / b\n",
        "    else:\n",
        "        return \"Error: No se puede dividir entre cero.\"\n"
      ],
      "metadata": {
        "id": "4c8ulKCA0iM2"
      },
      "execution_count": 6,
      "outputs": []
    },
    {
      "cell_type": "code",
      "source": [
        "# Esto simula tu main.py\n",
        "\n",
        "# Aquí usas las funciones definidas en la celda anterior\n",
        "def calculadora():\n",
        "    print(\"Operaciones disponibles:\")\n",
        "    print(\"1. Sumar\")\n",
        "    print(\"2. Restar\")\n",
        "    print(\"3. Multiplicar\")\n",
        "    print(\"4. Dividir\")\n",
        "\n",
        "    opcion = input(\"Elige una operación (1/2/3/4): \")\n",
        "\n",
        "    try:\n",
        "        num1 = float(input(\"Ingresa el primer número: \"))\n",
        "        num2 = float(input(\"Ingresa el segundo número: \"))\n",
        "    except ValueError:\n",
        "        print(\"Error: Ingresa números válidos.\")\n",
        "        return\n",
        "\n",
        "    if opcion == '1':\n",
        "        resultado = sumar(num1, num2)\n",
        "    elif opcion == '2':\n",
        "        resultado = restar(num1, num2)\n",
        "    elif opcion == '3':\n",
        "        resultado = multiplicar(num1, num2)\n",
        "    elif opcion == '4':\n",
        "        resultado = dividir(num1, num2)\n",
        "    else:\n",
        "        print(\"Opción inválida.\")\n",
        "        return\n",
        "\n",
        "    print(f\"El resultado es: {resultado}\")\n",
        "\n",
        "# Ejecuta la calculadora\n",
        "calculadora()\n"
      ],
      "metadata": {
        "colab": {
          "base_uri": "https://localhost:8080/"
        },
        "id": "6tQXs7Xk0jkm",
        "outputId": "1df34b2f-c2ef-4161-c48c-218b8f50dd33"
      },
      "execution_count": null,
      "outputs": [
        {
          "output_type": "stream",
          "name": "stdout",
          "text": [
            "Operaciones disponibles:\n",
            "1. Sumar\n",
            "2. Restar\n",
            "3. Multiplicar\n",
            "4. Dividir\n"
          ]
        }
      ]
    }
  ]
}