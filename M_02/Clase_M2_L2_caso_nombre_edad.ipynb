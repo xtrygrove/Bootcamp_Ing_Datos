{
  "nbformat": 4,
  "nbformat_minor": 0,
  "metadata": {
    "colab": {
      "provenance": []
    },
    "kernelspec": {
      "name": "python3",
      "display_name": "Python 3"
    },
    "language_info": {
      "name": "python"
    }
  },
  "cells": [
    {
      "cell_type": "code",
      "source": [
        "# (Opcional) Definir función es_mayor\n",
        "def es_mayor(edad):\n",
        "    return edad >= 18\n",
        "\n",
        "# Solicitar datos al usuario\n",
        "nombre = input(\"Ingresa tu nombre: \")\n",
        "try:\n",
        "    edad = int(input(\"Ingresa tu edad: \"))\n",
        "except ValueError:\n",
        "    print(\"Debes ingresar un número entero para la edad.\")\n",
        "    exit()\n",
        "\n",
        "# Usar estructura condicional\n",
        "if es_mayor(edad):\n",
        "    condicion = \"mayor de edad\"\n",
        "else:\n",
        "    condicion = \"menor de edad\"\n",
        "\n",
        "# Mensaje final\n",
        "print(f\"Hola, {nombre}. Eres {condicion}.\")\n"
      ],
      "metadata": {
        "colab": {
          "base_uri": "https://localhost:8080/"
        },
        "id": "TRFSSSB_yL4E",
        "outputId": "a34523e3-c273-4746-8327-a33a557b07bf"
      },
      "execution_count": 2,
      "outputs": [
        {
          "output_type": "stream",
          "name": "stdout",
          "text": [
            "Ingresa tu nombre: Eduardo\n",
            "Ingresa tu edad: 42\n",
            "Hola, Eduardo. Eres mayor de edad.\n"
          ]
        }
      ]
    }
  ]
}