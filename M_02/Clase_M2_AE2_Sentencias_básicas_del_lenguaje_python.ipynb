{
  "nbformat": 4,
  "nbformat_minor": 0,
  "metadata": {
    "colab": {
      "provenance": []
    },
    "kernelspec": {
      "name": "python3",
      "display_name": "Python 3"
    },
    "language_info": {
      "name": "python"
    }
  },
  "cells": [
    {
      "cell_type": "code",
      "source": [
        "# Solicitar datos al usuario\n",
        "nombre_usuario = input(\"Ingresa tu nombre: \")\n",
        "edad_usuario = int(input(\"Ingresa tu edad: \"))\n",
        "pais_residencia = input(\"Ingresa tu país de residencia: \").lower()  # convertir a minúsculas\n",
        "\n",
        "# Lista de países válidos\n",
        "paises_validos = [\"argentina\", \"chile\", \"colombia\"]\n",
        "\n",
        "# Evaluar condiciones\n",
        "es_mayor_de_edad = edad_usuario >= 18\n",
        "vive_en_pais_valido = pais_residencia in paises_validos\n",
        "\n",
        "accede_beneficio = es_mayor_de_edad and vive_en_pais_valido\n",
        "\n",
        "# Mostrar resultado\n",
        "print(f\"Hola, {nombre_usuario}!\")\n",
        "if accede_beneficio:\n",
        "    print(\"¡Puedes acceder al beneficio disponible para mayores de 18 años en Argentina, Chile o Colombia! 🎉\")\n",
        "else:\n",
        "    print(\"Lo sentimos, no cumples con los requisitos para acceder al beneficio.\")\n"
      ],
      "metadata": {
        "colab": {
          "base_uri": "https://localhost:8080/"
        },
        "id": "6XtzmrGNzN8E",
        "outputId": "0eebd89a-f825-4cd2-f99e-9543853b8cf3"
      },
      "execution_count": 3,
      "outputs": [
        {
          "output_type": "stream",
          "name": "stdout",
          "text": [
            "Ingresa tu nombre: Eduardo\n",
            "Ingresa tu edad: 42\n",
            "Ingresa tu país de residencia: Chile\n",
            "Hola, Eduardo!\n",
            "¡Puedes acceder al beneficio disponible para mayores de 18 años en Argentina, Chile o Colombia! 🎉\n"
          ]
        }
      ]
    }
  ]
}