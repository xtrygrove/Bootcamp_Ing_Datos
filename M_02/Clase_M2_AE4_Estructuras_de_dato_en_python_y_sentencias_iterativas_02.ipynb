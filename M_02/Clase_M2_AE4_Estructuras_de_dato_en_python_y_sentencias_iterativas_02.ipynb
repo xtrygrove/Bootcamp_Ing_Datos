{
  "nbformat": 4,
  "nbformat_minor": 0,
  "metadata": {
    "colab": {
      "provenance": []
    },
    "kernelspec": {
      "name": "python3",
      "display_name": "Python 3"
    },
    "language_info": {
      "name": "python"
    }
  },
  "cells": [
    {
      "cell_type": "code",
      "source": [
        "# Diccionario de empleados con nombre y edad\n",
        "empleados = {\n",
        "    'emp1': {'nombre': 'Ana', 'edad': 28},\n",
        "    'emp2': {'nombre': 'Luis', 'edad': 35},\n",
        "    'emp3': {'nombre': 'María', 'edad': 40},\n",
        "    'emp4': {'nombre': 'Pedro', 'edad': 25},\n",
        "    'emp5': {'nombre': 'Carla', 'edad': 32}\n",
        "}\n",
        "\n",
        "# Lista para empleados menores de 30\n",
        "menores_30 = []\n",
        "\n",
        "print(\"Empleados mayores de 30 años:\")\n",
        "# Recorrer diccionario con .items()\n",
        "for clave, datos in empleados.items():\n",
        "    nombre = datos['nombre']\n",
        "    edad = datos['edad']\n",
        "    if edad > 30:\n",
        "        print(f\"- {nombre}, {edad} años\")\n",
        "    elif edad < 30:\n",
        "        menores_30.append(nombre)\n",
        "\n",
        "# Mostrar lista de menores de 30\n",
        "print(\"\\nEmpleados menores de 30 años:\")\n",
        "print(menores_30)\n",
        "\n",
        "# Contar empleados totales\n",
        "total_empleados = len(empleados)\n",
        "print(f\"\\nCantidad total de empleados: {total_empleados}\")\n"
      ],
      "metadata": {
        "colab": {
          "base_uri": "https://localhost:8080/"
        },
        "id": "iq1DUd2g1peT",
        "outputId": "babf5965-0947-4912-b5b5-faab22840161"
      },
      "execution_count": 9,
      "outputs": [
        {
          "output_type": "stream",
          "name": "stdout",
          "text": [
            "Empleados mayores de 30 años:\n",
            "- Luis, 35 años\n",
            "- María, 40 años\n",
            "- Carla, 32 años\n",
            "\n",
            "Empleados menores de 30 años:\n",
            "['Ana', 'Pedro']\n",
            "\n",
            "Cantidad total de empleados: 5\n"
          ]
        }
      ]
    }
  ]
}