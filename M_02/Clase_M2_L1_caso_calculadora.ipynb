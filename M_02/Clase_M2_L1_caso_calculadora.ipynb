{
  "nbformat": 4,
  "nbformat_minor": 0,
  "metadata": {
    "colab": {
      "provenance": []
    },
    "kernelspec": {
      "name": "python3",
      "display_name": "Python 3"
    },
    "language_info": {
      "name": "python"
    }
  },
  "cells": [
    {
      "cell_type": "code",
      "source": [
        "# Definir funciones para cada operación\n",
        "def sumar(a, b):\n",
        "    return a + b\n",
        "\n",
        "def restar(a, b):\n",
        "    return a - b\n",
        "\n",
        "def multiplicar(a, b):\n",
        "    return a * b\n",
        "\n",
        "def dividir(a, b):\n",
        "    if b != 0:\n",
        "        return a / b\n",
        "    else:\n",
        "        return \"Error: No se puede dividir entre cero.\"\n",
        "\n",
        "# Función principal\n",
        "def calculadora():\n",
        "    print(\"Operaciones disponibles:\")\n",
        "    print(\"1. Sumar\")\n",
        "    print(\"2. Restar\")\n",
        "    print(\"3. Multiplicar\")\n",
        "    print(\"4. Dividir\")\n",
        "\n",
        "    opcion = input(\"Elige una operación (1/2/3/4): \")\n",
        "\n",
        "    try:\n",
        "        num1 = float(input(\"Ingresa el primer número: \"))\n",
        "        num2 = float(input(\"Ingresa el segundo número: \"))\n",
        "    except ValueError:\n",
        "        print(\"Error: Debes ingresar números válidos.\")\n",
        "        return\n",
        "\n",
        "    if opcion == '1':\n",
        "        print(\"Resultado:\", sumar(num1, num2))\n",
        "    elif opcion == '2':\n",
        "        print(\"Resultado:\", restar(num1, num2))\n",
        "    elif opcion == '3':\n",
        "        print(\"Resultado:\", multiplicar(num1, num2))\n",
        "    elif opcion == '4':\n",
        "        print(\"Resultado:\", dividir(num1, num2))\n",
        "    else:\n",
        "        print(\"Opción inválida. Intenta de nuevo.\")\n",
        "\n",
        "# Ejecutar la calculadora\n",
        "calculadora()"
      ],
      "metadata": {
        "colab": {
          "base_uri": "https://localhost:8080/"
        },
        "id": "vpr1QCjaxRCv",
        "outputId": "d739d617-f3b6-4e9e-e70c-0e83a414c2fb"
      },
      "execution_count": 1,
      "outputs": [
        {
          "output_type": "stream",
          "name": "stdout",
          "text": [
            "Operaciones disponibles:\n",
            "1. Sumar\n",
            "2. Restar\n",
            "3. Multiplicar\n",
            "4. Dividir\n",
            "Elige una operación (1/2/3/4): 1\n",
            "Ingresa el primer número: 25\n",
            "Ingresa el segundo número: 25\n",
            "Resultado: 50.0\n"
          ]
        }
      ]
    }
  ]
}