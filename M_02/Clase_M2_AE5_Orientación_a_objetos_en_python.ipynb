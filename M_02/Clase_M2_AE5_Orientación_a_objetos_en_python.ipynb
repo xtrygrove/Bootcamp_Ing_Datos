{
  "nbformat": 4,
  "nbformat_minor": 0,
  "metadata": {
    "colab": {
      "provenance": []
    },
    "kernelspec": {
      "name": "python3",
      "display_name": "Python 3"
    },
    "language_info": {
      "name": "python"
    }
  },
  "cells": [
    {
      "cell_type": "code",
      "source": [
        "class Auto:\n",
        "    def __init__(self, color, peso, tamaño, alto, largo, cantidad_ruedas, cantidad_puertas, tipo):\n",
        "        # Atributos del auto\n",
        "        self.color = color\n",
        "        self.peso = peso\n",
        "        self.tamaño = tamaño\n",
        "        self.alto = alto\n",
        "        self.largo = largo\n",
        "        self.cantidad_ruedas = cantidad_ruedas\n",
        "        self.cantidad_puertas = cantidad_puertas\n",
        "        self.tipo = tipo\n",
        "        self.estado = \"Detenido\"  # Estado inicial\n",
        "\n",
        "    # Métodos / Comportamientos\n",
        "    def arrancar(self):\n",
        "        self.estado = \"Circulando\"\n",
        "        print(\"El auto ha arrancado y está circulando.\")\n",
        "\n",
        "    def frenar(self):\n",
        "        self.estado = \"Detenido\"\n",
        "        print(\"El auto se ha detenido.\")\n",
        "\n",
        "    def acelerar(self):\n",
        "        if self.estado == \"Circulando\":\n",
        "            print(\"El auto está acelerando.\")\n",
        "        else:\n",
        "            print(\"No puedes acelerar si el auto no está circulando.\")\n",
        "\n",
        "    def girar(self, direccion):\n",
        "        if self.estado == \"Circulando\":\n",
        "            print(f\"El auto gira hacia la {direccion}.\")\n",
        "        else:\n",
        "            print(\"No puedes girar si el auto no está circulando.\")\n",
        "\n",
        "    def estacionar(self):\n",
        "        self.estado = \"Estacionado\"\n",
        "        print(\"El auto está estacionado.\")\n",
        "\n",
        "    def daniar(self):\n",
        "        self.estado = \"Dañado\"\n",
        "        print(\"El auto está dañado.\")\n",
        "\n",
        "    # Método para mostrar información del auto\n",
        "    def mostrar_info(self):\n",
        "        print(f\"Auto de color {self.color}, tipo {self.tipo}. Estado actual: {self.estado}\")\n",
        "\n"
      ],
      "metadata": {
        "id": "z6WHDXnQ2az3"
      },
      "execution_count": 10,
      "outputs": []
    },
    {
      "cell_type": "code",
      "source": [
        "# Crear una instancia de Auto\n",
        "mi_auto = Auto(\n",
        "    color=\"Negro\",\n",
        "    peso=1500,\n",
        "    tamaño=\"Mediano\",\n",
        "    alto=1.5,\n",
        "    largo=4.2,\n",
        "    cantidad_ruedas=4,\n",
        "    cantidad_puertas=4,\n",
        "    tipo=\"Sedán\"\n",
        ")\n",
        "\n",
        "# Usar sus métodos\n",
        "mi_auto.mostrar_info()\n",
        "mi_auto.arrancar()\n",
        "mi_auto.acelerar()\n",
        "mi_auto.girar(\"izquierda\")\n",
        "mi_auto.frenar()\n",
        "mi_auto.estacionar()\n",
        "mi_auto.daniar()\n",
        "mi_auto.mostrar_info()\n"
      ],
      "metadata": {
        "colab": {
          "base_uri": "https://localhost:8080/"
        },
        "id": "ZD8MgUfy2dou",
        "outputId": "6856642a-4427-4f66-f5b3-1d050b861421"
      },
      "execution_count": 11,
      "outputs": [
        {
          "output_type": "stream",
          "name": "stdout",
          "text": [
            "Auto de color Negro, tipo Sedán. Estado actual: Detenido\n",
            "El auto ha arrancado y está circulando.\n",
            "El auto está acelerando.\n",
            "El auto gira hacia la izquierda.\n",
            "El auto se ha detenido.\n",
            "El auto está estacionado.\n",
            "El auto está dañado.\n",
            "Auto de color Negro, tipo Sedán. Estado actual: Dañado\n"
          ]
        }
      ]
    }
  ]
}