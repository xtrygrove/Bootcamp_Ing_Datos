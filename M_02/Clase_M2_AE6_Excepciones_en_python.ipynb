{
  "nbformat": 4,
  "nbformat_minor": 0,
  "metadata": {
    "colab": {
      "provenance": []
    },
    "kernelspec": {
      "name": "python3",
      "display_name": "Python 3"
    },
    "language_info": {
      "name": "python"
    }
  },
  "cells": [
    {
      "cell_type": "code",
      "source": [
        "# 1. Clase Libro\n",
        "class Libro:\n",
        "    def __init__(self, titulo, autor, stock):\n",
        "        self.titulo = titulo\n",
        "        self.autor = autor\n",
        "        self.stock = stock\n",
        "\n",
        "# 2. Excepción personalizada\n",
        "class LibroNoDisponibleError(Exception):\n",
        "    \"\"\"Excepción lanzada cuando no hay stock disponible del libro.\"\"\"\n",
        "    def __init__(self, titulo):\n",
        "        super().__init__(f\"El libro '{titulo}' no está disponible en este momento.\")\n",
        "\n",
        "# 3. Clase Biblioteca\n",
        "class Biblioteca:\n",
        "    def __init__(self):\n",
        "        self.catalogo = {}\n",
        "\n",
        "    def agregar_libro(self, libro):\n",
        "        self.catalogo[libro.titulo] = libro\n",
        "\n",
        "    def prestar_libro(self, titulo):\n",
        "        if titulo in self.catalogo:\n",
        "            libro = self.catalogo[titulo]\n",
        "            if libro.stock > 0:\n",
        "                libro.stock -= 1\n",
        "                print(f\"Has tomado prestado: '{libro.titulo}' de {libro.autor}. Stock restante: {libro.stock}\")\n",
        "            else:\n",
        "                raise LibroNoDisponibleError(titulo)\n",
        "        else:\n",
        "            print(f\"El libro '{titulo}' no se encuentra en el catálogo.\")\n",
        "\n",
        "# 4. Probar con try-except\n",
        "# Crear libros\n",
        "libro1 = Libro(\"1984\", \"George Orwell\", 2)\n",
        "libro2 = Libro(\"Cien años de soledad\", \"Gabriel García Márquez\", 1)\n",
        "\n",
        "# Crear biblioteca y agregar libros\n",
        "biblioteca = Biblioteca()\n",
        "biblioteca.agregar_libro(libro1)\n",
        "biblioteca.agregar_libro(libro2)\n",
        "\n",
        "# Prueba de préstamo\n",
        "try:\n",
        "    biblioteca.prestar_libro(\"1984\")\n",
        "    biblioteca.prestar_libro(\"1984\")\n",
        "    biblioteca.prestar_libro(\"1984\")  # Este debería lanzar la excepción\n",
        "except LibroNoDisponibleError as e:\n",
        "    print(f\"Error: {e}\")\n",
        "\n",
        "# Prueba de préstamo de libro inexistente\n",
        "biblioteca.prestar_libro(\"El principito\")\n"
      ],
      "metadata": {
        "id": "fYGvfrAb3BpG",
        "outputId": "377cd52c-affd-4d87-b754-ff61e5b25f8b",
        "colab": {
          "base_uri": "https://localhost:8080/"
        }
      },
      "execution_count": 12,
      "outputs": [
        {
          "output_type": "stream",
          "name": "stdout",
          "text": [
            "Has tomado prestado: '1984' de George Orwell. Stock restante: 1\n",
            "Has tomado prestado: '1984' de George Orwell. Stock restante: 0\n",
            "Error: El libro '1984' no está disponible en este momento.\n",
            "El libro 'El principito' no se encuentra en el catálogo.\n"
          ]
        }
      ]
    }
  ]
}