{
 "cells": [
  {
   "cell_type": "markdown",
   "id": "3f34782d",
   "metadata": {},
   "source": [
    "\n",
    "# Spark SQL – Ejercicio guiado (CSV creado dentro del notebook)\n",
    "\n",
    "Este notebook ahora **crea el archivo CSV dentro del propio notebook** y luego lo **lee con Spark**.  \n",
    "Tu objetivo será completar las celdas marcadas como **_TAREA_** para realizar consultas SQL con **filtros**, **agrupación** y **ordenamiento**.\n"
   ]
  },
  {
   "cell_type": "code",
   "execution_count": null,
   "id": "4a484454",
   "metadata": {},
   "outputs": [],
   "source": [
    "\n",
    "# --- Instalación (si hace falta) ---\n",
    "# En entornos como Google Colab, descomenta para instalar.\n",
    "!pip -q install pyspark\n"
   ]
  },
  {
   "cell_type": "code",
   "execution_count": null,
   "id": "699328b7",
   "metadata": {},
   "outputs": [],
   "source": [
    "\n",
    "# --- Importaciones y sesión Spark ---\n",
    "from pyspark.sql import SparkSession\n",
    "from pyspark.sql.functions import col\n",
    "spark = SparkSession.builder.appName(\"SQL-ejercicio-guiado\").getOrCreate()\n",
    "spark\n"
   ]
  },
  {
   "cell_type": "markdown",
   "id": "871b3974",
   "metadata": {},
   "source": [
    "\n",
    "## Crear CSV de ejemplo **dentro del notebook**\n",
    "\n",
    "Se generará `ventas.csv` en el directorio actual del notebook, con columnas:  \n",
    "`fecha, ciudad, categoria, producto, unidades, precio_unitario, total`  \n"
   ]
  },
  {
   "cell_type": "code",
   "execution_count": null,
   "id": "6bf6a82f",
   "metadata": {},
   "outputs": [],
   "source": [
    "\n",
    "# --- Generación del CSV en el mismo notebook ---\n",
    "import os, csv\n",
    "\n",
    "csv_path = os.path.abspath(\"ventas.csv\")\n",
    "rows = [\n",
    "    [\"2025-08-01\",\"Curicó\",\"Cámaras\",\"Kit Cam 4K\",2,159000,318000],\n",
    "    [\"2025-08-01\",\"Talca\",\"Alarmas\",\"Alarma Hogar\",1,129000,129000],\n",
    "    [\"2025-08-02\",\"Curicó\",\"Domótica\",\"Smart Hub\",1,99000,99000],\n",
    "    [\"2025-08-02\",\"Santiago\",\"Cámaras\",\"Cam IP Pro\",3,89000,267000],\n",
    "    [\"2025-08-03\",\"Curicó\",\"Portones\",\"Motor SG-600\",1,249000,249000],\n",
    "    [\"2025-08-03\",\"Talca\",\"Cámaras\",\"Kit Cam 4K\",1,159000,159000],\n",
    "    [\"2025-08-04\",\"Curicó\",\"Citofonía\",\"Videoportero X\",2,119000,238000],\n",
    "    [\"2025-08-04\",\"Santiago\",\"Domótica\",\"Sensor Puerta\",4,19000,76000],\n",
    "    [\"2025-08-05\",\"Curicó\",\"Cámaras\",\"Cam IP Pro\",2,89000,178000],\n",
    "    [\"2025-08-05\",\"Talca\",\"Citofonía\",\"Audioportero A\",3,59000,177000],\n",
    "    [\"2025-08-06\",\"Curicó\",\"Alarmas\",\"Alarma Hogar\",1,129000,129000],\n",
    "    [\"2025-08-06\",\"Santiago\",\"Portones\",\"Motor SG-600\",1,249000,249000],\n",
    "    [\"2025-08-07\",\"Curicó\",\"Domótica\",\"Sensor Movimiento\",5,22000,110000],\n",
    "    [\"2025-08-07\",\"Talca\",\"Cámaras\",\"Cam IP Pro\",1,89000,89000],\n",
    "    [\"2025-08-08\",\"Curicó\",\"Citofonía\",\"Videoportero X\",1,119000,119000],\n",
    "]\n",
    "\n",
    "with open(csv_path, \"w\", newline=\"\", encoding=\"utf-8\") as f:\n",
    "    w = csv.writer(f)\n",
    "    w.writerow([\"fecha\",\"ciudad\",\"categoria\",\"producto\",\"unidades\",\"precio_unitario\",\"total\"])\n",
    "    w.writerows(rows)\n",
    "\n",
    "print(\"CSV generado en:\", csv_path)\n"
   ]
  },
  {
   "cell_type": "markdown",
   "id": "3b2cdae9",
   "metadata": {},
   "source": [
    "\n",
    "## Cargar el CSV recién creado a Spark y crear vista temporal\n"
   ]
  },
  {
   "cell_type": "code",
   "execution_count": null,
   "id": "bf6a104d",
   "metadata": {},
   "outputs": [],
   "source": [
    "\n",
    "# --- Carga del CSV a Spark DataFrame ---\n",
    "df = spark.read.option(\"header\", True).option(\"inferSchema\", True).csv(csv_path)\n",
    "df.printSchema()\n",
    "df.show(5, truncate=False)\n",
    "\n",
    "# Vista temporal para consultas SQL\n",
    "df.createOrReplaceTempView(\"ventas\")\n"
   ]
  },
  {
   "cell_type": "markdown",
   "id": "e6e805c8",
   "metadata": {},
   "source": [
    "\n",
    "## TAREA 1 — Explora los datos (warm-up)\n",
    "\n",
    "1. Cuenta cuántas filas hay en `ventas` con SQL.  \n",
    "2. Lista las **ciudades** distintas.  \n",
    "3. Muestra el **rango de fechas** (`MIN(fecha)`, `MAX(fecha)`).  \n",
    "\n",
    "> Usa `spark.sql(\"SELECT ... FROM ventas\").show()`.\n"
   ]
  },
  {
   "cell_type": "code",
   "execution_count": null,
   "id": "f326c8cc",
   "metadata": {},
   "outputs": [],
   "source": [
    "\n",
    "# Escribe aquí tus consultas SQL para la TAREA 1\n",
    "\n"
   ]
  },
  {
   "cell_type": "markdown",
   "id": "5ab7f996",
   "metadata": {},
   "source": [
    "\n",
    "## TAREA 2 — Consulta con **filtros + agrupación + ordenamiento** (obligatoria)\n",
    "\n",
    "**Objetivo:** Obtener el **total de unidades** y el **total vendido** por **categoría**, aplicando filtros y ordenando.\n",
    "\n",
    "**Requisitos:**\n",
    "- Filtra por una **ciudad** (ej.: `'Curicó'`).  \n",
    "- Filtra por un **rango de fechas** (ej.: `'2025-08-01'` a `'2025-08-08'`).  \n",
    "- Agrupa por `categoria` y calcula:\n",
    "  - `SUM(unidades)` como `total_unidades`  \n",
    "  - `SUM(total)` como `total_vendido`\n",
    "- **Ordena** por `total_vendido` de mayor a menor.\n"
   ]
  },
  {
   "cell_type": "code",
   "execution_count": null,
   "id": "08bb091a",
   "metadata": {},
   "outputs": [],
   "source": [
    "\n",
    "# Escribe aquí tu consulta para la TAREA 2\n"
   ]
  },
  {
   "cell_type": "markdown",
   "id": "1062e6f8",
   "metadata": {},
   "source": [
    "\n",
    "## (Opcional) TAREA 3 — **Top N productos** por ingresos en una ciudad\n",
    "\n",
    "- Filtra por una ciudad (ej.: `'Talca'`).  \n",
    "- Agrupa por `producto` y calcula `SUM(total)` como `ingresos`.  \n",
    "- Ordena por `ingresos` descendente y limita a N (ej.: 3).\n"
   ]
  },
  {
   "cell_type": "code",
   "execution_count": null,
   "id": "2a52bd4c",
   "metadata": {},
   "outputs": [],
   "source": [
    "\n",
    "# Escribe aquí tu consulta para la TAREA 3\n",
    "\n"
   ]
  },
  {
   "cell_type": "code",
   "execution_count": null,
   "id": "6c36ffed",
   "metadata": {},
   "outputs": [],
   "source": [
    "\n",
    "# Cerrar sesión al terminar\n",
    " spark.stop()\n"
   ]
  }
 ],
 "metadata": {
  "language_info": {
   "name": "python"
  }
 },
 "nbformat": 4,
 "nbformat_minor": 5
}
