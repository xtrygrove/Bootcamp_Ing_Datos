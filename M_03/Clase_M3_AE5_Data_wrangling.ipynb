{
  "nbformat": 4,
  "nbformat_minor": 0,
  "metadata": {
    "colab": {
      "provenance": []
    },
    "kernelspec": {
      "name": "python3",
      "display_name": "Python 3"
    },
    "language_info": {
      "name": "python"
    }
  },
  "cells": [
    {
      "cell_type": "code",
      "source": [
        "import pandas as pd\n",
        "\n",
        "# 1. Cargar dataset\n",
        "df = pd.read_csv('ventas_ecommerce.csv')\n",
        "print(\"\\nDataFrame original:\")\n",
        "print(df.head())\n",
        "\n",
        "# 2. Eliminar filas duplicadas\n",
        "df = df.drop_duplicates()\n",
        "print(\"\\nFilas duplicadas eliminadas.\")\n",
        "\n",
        "# 3. Revisar y gestionar valores nulos\n",
        "print(\"\\nValores nulos por columna:\")\n",
        "print(df.isnull().sum())\n",
        "\n",
        "# Ejemplo: eliminar filas con nulos en 'precio' y rellenar otros\n",
        "df = df.dropna(subset=['precio'])\n",
        "df['cliente'] = df['cliente'].fillna('Desconocido')\n",
        "\n",
        "# 4. Corregir valores inconsistentes en columna 'metodo_pago'\n",
        "df['metodo_pago'] = df['metodo_pago'].replace({\n",
        "    'tarjeta': 'Tarjeta',\n",
        "    'efetivo': 'Efectivo'\n",
        "})\n",
        "\n",
        "# 5. Normalizar formatos: fechas y precios\n",
        "df['fecha'] = pd.to_datetime(df['fecha'])\n",
        "df['precio'] = df['precio'].astype(float)\n",
        "\n",
        "print(\"\\nDataFrame limpio:\")\n",
        "print(df.head())\n",
        "\n",
        "# (Opcional) Exportar\n",
        "df.to_csv('ventas_ecommerce_limpio.csv', index=False)\n",
        "print(\"\\nArchivo limpio exportado: ventas_ecommerce_limpio.csv\")\n"
      ],
      "metadata": {
        "id": "XPp-2iKdCrDz"
      },
      "execution_count": null,
      "outputs": []
    },
    {
      "cell_type": "code",
      "source": [
        "import pandas as pd\n",
        "\n",
        "# 1. Cargar dataset\n",
        "df = pd.read_csv('empleados.csv')\n",
        "print(\"\\nDataFrame empleados:\")\n",
        "print(df.head())\n",
        "\n",
        "# 2. Agrupar por área: promedio de antigüedad y edad\n",
        "agrupado = df.groupby('area').agg({\n",
        "    'antiguedad': 'mean',\n",
        "    'edad': 'mean'\n",
        "}).reset_index()\n",
        "\n",
        "print(\"\\nPromedios por área:\")\n",
        "print(agrupado)\n",
        "\n",
        "# 3. Discretizar edad en categorías\n",
        "bins = [0, 30, 45, 120]\n",
        "labels = ['Joven', 'Medio', 'Senior']\n",
        "df['categoria_edad'] = pd.cut(df['edad'], bins=bins, labels=labels)\n",
        "\n",
        "# 4. Nueva columna: permanencia estable\n",
        "df['permanencia'] = df['antiguedad'].apply(lambda x: 'Estable' if x > 5 else 'Variable')\n",
        "\n",
        "print(\"\\nDataFrame transformado:\")\n",
        "print(df.head())\n",
        "\n",
        "# 5. Exportar resultado\n",
        "df.to_csv('empleados_transformado.csv', index=False)\n",
        "print(\"\\nArchivo exportado: empleados_transformado.csv\")\n"
      ],
      "metadata": {
        "id": "YUXIKKjRCtGP"
      },
      "execution_count": null,
      "outputs": []
    }
  ]
}