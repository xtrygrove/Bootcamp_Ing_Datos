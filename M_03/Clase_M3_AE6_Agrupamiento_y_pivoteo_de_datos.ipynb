{
  "nbformat": 4,
  "nbformat_minor": 0,
  "metadata": {
    "colab": {
      "provenance": []
    },
    "kernelspec": {
      "name": "python3",
      "display_name": "Python 3"
    },
    "language_info": {
      "name": "python"
    }
  },
  "cells": [
    {
      "cell_type": "code",
      "source": [
        "import pandas as pd\n",
        "\n",
        "# 1. Cargar archivo\n",
        "df = pd.read_csv('ventas_productos.csv')\n",
        "print(\"\\nDataFrame original:\")\n",
        "print(df.head())\n",
        "\n",
        "# 2. Convertir columna fecha a datetime y crear columna mes\n",
        "df['fecha'] = pd.to_datetime(df['fecha'])\n",
        "df['mes'] = df['fecha'].dt.month\n",
        "\n",
        "# 3. Agrupar por categoría y mes\n",
        "ventas_agrupadas = df.groupby(['categoria', 'mes'])['ventas'].sum().reset_index()\n",
        "print(\"\\nVentas agrupadas:\")\n",
        "print(ventas_agrupadas)\n",
        "\n",
        "# 4. Pivotar para ver categorías en filas y meses en columnas\n",
        "ventas_pivot = ventas_agrupadas.pivot(index='categoria', columns='mes', values='ventas').fillna(0)\n",
        "print(\"\\nDataFrame pivotado:\")\n",
        "print(ventas_pivot)\n",
        "\n",
        "# 5. Exportar resultado\n",
        "ventas_pivot.to_csv('reporte_categorias.csv')\n",
        "print(\"\\nArchivo exportado: reporte_categorias.csv\")"
      ],
      "metadata": {
        "id": "55YDzQw7DIcz"
      },
      "execution_count": null,
      "outputs": []
    },
    {
      "cell_type": "code",
      "source": [
        "import pandas as pd\n",
        "\n",
        "# 1. Cargar archivos\n",
        "usuarios = pd.read_csv('usuarios.csv')  # user_id, segmento, registro_fecha\n",
        "compras = pd.read_csv('compras.csv')    # user_id, compra_id, monto\n",
        "\n",
        "print(\"\\nUsuarios:\")\n",
        "print(usuarios.head())\n",
        "print(\"\\nCompras:\")\n",
        "print(compras.head())\n",
        "\n",
        "# 2. Unir datasets por user_id\n",
        "df = pd.merge(usuarios, compras, on='user_id')\n",
        "print(\"\\nDataset unificado:\")\n",
        "print(df.head())\n",
        "\n",
        "# 3. Agrupar por segmento y contar compras\n",
        "resumen = df.groupby('segmento').agg(\n",
        "    cantidad_compras=('compra_id', 'count'),\n",
        "    total_gastado=('monto', 'sum')\n",
        ").reset_index()\n",
        "\n",
        "# 4. Ordenar resultados\n",
        "resumen = resumen.sort_values(by='cantidad_compras', ascending=False)\n",
        "print(\"\\nResumen por segmento:\")\n",
        "print(resumen)\n",
        "\n",
        "# (Opcional) Exportar\n",
        "resumen.to_csv('resumen_segmentos.csv', index=False)\n",
        "print(\"\\nArchivo exportado: resumen_segmentos.csv\")\n"
      ],
      "metadata": {
        "id": "72H6C5OqDKw2"
      },
      "execution_count": null,
      "outputs": []
    }
  ]
}