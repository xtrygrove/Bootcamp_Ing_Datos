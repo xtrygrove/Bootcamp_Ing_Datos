{
  "nbformat": 4,
  "nbformat_minor": 0,
  "metadata": {
    "colab": {
      "provenance": []
    },
    "kernelspec": {
      "name": "python3",
      "display_name": "Python 3"
    },
    "language_info": {
      "name": "python"
    }
  },
  "cells": [
    {
      "cell_type": "code",
      "source": [
        "import numpy as np\n",
        "\n",
        "# 1. Crear matriz 3x3 con números del 1 al 9\n",
        "A = np.array([[1,2,3],\n",
        "              [4,5,6],\n",
        "              [7,8,9]])\n",
        "print(\"Matriz A original:\\n\", A)\n",
        "\n",
        "# 2. Suma 10 a cada elemento\n",
        "A_plus_10 = A + 10\n",
        "print(\"\\nMatriz A + 10:\\n\", A_plus_10)\n",
        "\n",
        "# Multiplica la matriz por 2\n",
        "A_times_2 = A * 2\n",
        "print(\"\\nMatriz A * 2:\\n\", A_times_2)\n",
        "\n",
        "# 3. Selección condicional: elementos mayores a 5\n",
        "condicional = A[A > 5]\n",
        "print(\"\\nElementos mayores a 5:\", condicional)\n",
        "\n",
        "# 4. Asignación: referencia vs copia\n",
        "B = A  # referencia\n",
        "B[0,0] = 999\n",
        "print(\"\\nMatriz B después de modificar B[0,0] =\", B[0,0])\n",
        "print(\"¿Cambió A?\\n\", A)\n",
        "\n",
        "# Ahora prueba con copia\n",
        "A[0,0] = 1  # restaurar A\n",
        "B = A.copy()  # copia independiente\n",
        "B[0,0] = 888\n",
        "print(\"\\nB modificado con copia:\", B)\n",
        "print(\"¿Cambió A?\\n\", A)\n"
      ],
      "metadata": {
        "colab": {
          "base_uri": "https://localhost:8080/"
        },
        "id": "T6UfjqAQ-tmX",
        "outputId": "da708f11-3f55-4780-9367-2d4b4d7938fc"
      },
      "execution_count": 13,
      "outputs": [
        {
          "output_type": "stream",
          "name": "stdout",
          "text": [
            "Matriz A original:\n",
            " [[1 2 3]\n",
            " [4 5 6]\n",
            " [7 8 9]]\n",
            "\n",
            "Matriz A + 10:\n",
            " [[11 12 13]\n",
            " [14 15 16]\n",
            " [17 18 19]]\n",
            "\n",
            "Matriz A * 2:\n",
            " [[ 2  4  6]\n",
            " [ 8 10 12]\n",
            " [14 16 18]]\n",
            "\n",
            "Elementos mayores a 5: [6 7 8 9]\n",
            "\n",
            "Matriz B después de modificar B[0,0] = 999\n",
            "¿Cambió A?\n",
            " [[999   2   3]\n",
            " [  4   5   6]\n",
            " [  7   8   9]]\n",
            "\n",
            "B modificado con copia: [[888   2   3]\n",
            " [  4   5   6]\n",
            " [  7   8   9]]\n",
            "¿Cambió A?\n",
            " [[1 2 3]\n",
            " [4 5 6]\n",
            " [7 8 9]]\n"
          ]
        }
      ]
    },
    {
      "cell_type": "code",
      "source": [
        "import numpy as np\n",
        "\n",
        "# 1. np.arange() y reshape()\n",
        "x = np.arange(1, 17)\n",
        "print(\"Arreglo x:\", x)\n",
        "x_4x4 = x.reshape(4,4)\n",
        "print(\"\\nMatriz 4x4:\\n\", x_4x4)\n",
        "\n",
        "# 2. np.linspace()\n",
        "lin = np.linspace(0, 100, 10)\n",
        "print(\"\\nArreglo con linspace:\", lin)\n",
        "\n",
        "# 3. np.random.randint()\n",
        "rand_matrix = np.random.randint(1, 21, size=(3,3))\n",
        "print(\"\\nMatriz aleatoria 3x3:\\n\", rand_matrix)\n",
        "\n",
        "# 4. Aplicar np.sqrt() y np.log()\n",
        "print(\"\\nRaíz cuadrada matriz aleatoria:\\n\", np.sqrt(rand_matrix))\n",
        "print(\"\\nLogaritmo matriz aleatoria:\\n\", np.log(rand_matrix))\n",
        "\n",
        "# 5. Diferencias al aplicar funciones\n",
        "# np.sqrt() sobre enteros devuelve flotantes\n",
        "print(\"\\nTipo original:\", rand_matrix.dtype)\n",
        "sqrt_result = np.sqrt(rand_matrix)\n",
        "print(\"Tipo después de sqrt:\", sqrt_result.dtype)\n"
      ],
      "metadata": {
        "colab": {
          "base_uri": "https://localhost:8080/"
        },
        "id": "gmpy13qA-xxN",
        "outputId": "eee96b7a-42d2-4c48-8162-c100237ed9bd"
      },
      "execution_count": 14,
      "outputs": [
        {
          "output_type": "stream",
          "name": "stdout",
          "text": [
            "Arreglo x: [ 1  2  3  4  5  6  7  8  9 10 11 12 13 14 15 16]\n",
            "\n",
            "Matriz 4x4:\n",
            " [[ 1  2  3  4]\n",
            " [ 5  6  7  8]\n",
            " [ 9 10 11 12]\n",
            " [13 14 15 16]]\n",
            "\n",
            "Arreglo con linspace: [  0.          11.11111111  22.22222222  33.33333333  44.44444444\n",
            "  55.55555556  66.66666667  77.77777778  88.88888889 100.        ]\n",
            "\n",
            "Matriz aleatoria 3x3:\n",
            " [[ 8 19 12]\n",
            " [11  2  5]\n",
            " [12  6  9]]\n",
            "\n",
            "Raíz cuadrada matriz aleatoria:\n",
            " [[2.82842712 4.35889894 3.46410162]\n",
            " [3.31662479 1.41421356 2.23606798]\n",
            " [3.46410162 2.44948974 3.        ]]\n",
            "\n",
            "Logaritmo matriz aleatoria:\n",
            " [[2.07944154 2.94443898 2.48490665]\n",
            " [2.39789527 0.69314718 1.60943791]\n",
            " [2.48490665 1.79175947 2.19722458]]\n",
            "\n",
            "Tipo original: int64\n",
            "Tipo después de sqrt: float64\n"
          ]
        }
      ]
    }
  ]
}